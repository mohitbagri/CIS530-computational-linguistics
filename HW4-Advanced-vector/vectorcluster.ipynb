{
 "cells": [
  {
   "cell_type": "code",
   "execution_count": null,
   "metadata": {},
   "outputs": [],
   "source": [
    "from gensim.models import KeyedVectors\n",
    "import numpy as np\n",
    "from sklearn.cluster import KMeans\n",
    "\n",
    "# This maps from word  -> list of candidates\n",
    "word2cands = {}\n",
    "\n",
    "# This maps from word  -> number of clusters\n",
    "word2num = {}\n",
    "\n",
    "# Read the words file.\n",
    "with open(\"data/dev_input.txt\") as f:\n",
    "    for line in f:\n",
    "        word, numclus, cands = line.split(\" :: \")\n",
    "        cands = cands.split()\n",
    "        word2num[word] = int(numclus)\n",
    "        word2cands[word] = cands\n",
    "\n",
    "# Load cooccurrence vectors (question 2)\n",
    "vec = KeyedVectors.load_word2vec_format(\"data/coocvec-500mostfreq-window-3.vec.filter\")\n",
    "# Load dense vectors (uncomment for question 3)\n",
    "# vec = KeyedVectors.load_word2vec_format(\"data/GoogleNews-vectors-negative300.filter\")\n",
    "        \n",
    "for word in word2cands:\n",
    "    cands = word2cands[word]\n",
    "    numclusters = word2num[word]\n",
    "\n",
    "    # TODO: get word vectors from vec\n",
    "    # Cluster them with k-means\n",
    "    # Write the clusters to file.\n",
    "\n",
    "\n"
   ]
  }
 ],
 "metadata": {
  "kernelspec": {
   "display_name": "Python 3",
   "language": "python",
   "name": "python3"
  },
  "language_info": {
   "codemirror_mode": {
    "name": "ipython",
    "version": 3
   },
   "file_extension": ".py",
   "mimetype": "text/x-python",
   "name": "python",
   "nbconvert_exporter": "python",
   "pygments_lexer": "ipython3",
   "version": "3.6.1"
  }
 },
 "nbformat": 4,
 "nbformat_minor": 2
}
