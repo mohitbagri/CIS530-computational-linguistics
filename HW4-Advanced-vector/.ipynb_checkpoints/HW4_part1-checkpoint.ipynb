{
 "cells": [
  {
   "cell_type": "code",
   "execution_count": 1,
   "metadata": {},
   "outputs": [],
   "source": [
    "import time\n",
    "T0 = time.time()\n",
    "from gensim.models import KeyedVectors\n",
    "vecfile = '~/Documents/GoogleNews-vectors-negative300.bin'\n",
    "vecs = KeyedVectors.load_word2vec_format(vecfile, binary=True)\n",
    "print(\"Elapsed time:\",time.time() - T0)"
   ]
  },
  {
   "cell_type": "code",
   "execution_count": 2,
   "metadata": {},
   "outputs": [
    {
     "data": {
      "text/plain": [
       "[('picnics', 0.7400875091552734),\n",
       " ('picnic_lunch', 0.721373975276947),\n",
       " ('Picnic', 0.7005339860916138),\n",
       " ('potluck_picnic', 0.6683274507522583),\n",
       " ('picnic_supper', 0.6518912315368652),\n",
       " ('picnicking', 0.6355020999908447),\n",
       " ('cookout', 0.6324349045753479),\n",
       " ('Hiking_biking_camping', 0.6256069540977478),\n",
       " ('barbeque', 0.6225628852844238),\n",
       " ('barbecue', 0.6195758581161499)]"
      ]
     },
     "execution_count": 2,
     "metadata": {},
     "output_type": "execute_result"
    }
   ],
   "source": [
    "T1 =time.time()\n",
    "# vecs.most_similar(positive=['woman', 'king'], negative=['man']) # word woman' is not in the vocabulary\n",
    "vecs.most_similar(positive = ['picnic'])\n",
    "print(\"Elapsed time:\",time.time() - T0, '(',time.time() - T1,')')"
   ]
  },
  {
   "cell_type": "code",
   "execution_count": 7,
   "metadata": {},
   "outputs": [
    {
     "data": {
      "text/plain": [
       "'tissue'"
      ]
     },
     "execution_count": 7,
     "metadata": {},
     "output_type": "execute_result"
    }
   ],
   "source": [
    "vecs.doesnt_match(['tissue', 'papyrus', 'manila', 'newsprint', 'parchment', 'gazette'])"
   ]
  },
  {
   "cell_type": "code",
   "execution_count": 9,
   "metadata": {},
   "outputs": [
    {
     "data": {
      "text/plain": [
       "[('legs', 0.45747825503349304),\n",
       " ('thigh', 0.45675286650657654),\n",
       " ('cervical_vertebra', 0.4247641861438751),\n",
       " ('vertabra', 0.42213624715805054),\n",
       " ('fibula', 0.42016592621803284),\n",
       " ('pelvis', 0.41983047127723694),\n",
       " ('achilles_tendon', 0.4177353084087372),\n",
       " ('thoracic_vertebra', 0.414083331823349),\n",
       " ('ankle', 0.4096926152706146),\n",
       " ('C7_vertebra', 0.40824106335639954)]"
      ]
     },
     "execution_count": 9,
     "metadata": {},
     "output_type": "execute_result"
    }
   ],
   "source": [
    "vecs.most_similar(positive = ['throw','leg'], negative = ['jump'])"
   ]
  },
  {
   "cell_type": "code",
   "execution_count": null,
   "metadata": {},
   "outputs": [],
   "source": []
  }
 ],
 "metadata": {
  "kernelspec": {
   "display_name": "Python 3",
   "language": "python",
   "name": "python3"
  },
  "language_info": {
   "codemirror_mode": {
    "name": "ipython",
    "version": 3
   },
   "file_extension": ".py",
   "mimetype": "text/x-python",
   "name": "python",
   "nbconvert_exporter": "python",
   "pygments_lexer": "ipython3",
   "version": "3.6.1"
  }
 },
 "nbformat": 4,
 "nbformat_minor": 2
}
