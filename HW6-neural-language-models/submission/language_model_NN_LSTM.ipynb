{
 "cells": [
  {
   "cell_type": "code",
   "execution_count": 1,
   "metadata": {},
   "outputs": [],
   "source": [
    "# http://pytorch.org/tutorials/intermediate/char_rnn_classification_tutorial.html\n",
    "from __future__ import unicode_literals, print_function, division\n",
    "from io import open\n",
    "import glob\n",
    "from torch.autograd import Variable\n",
    "tri_FLAG = True"
   ]
  },
  {
   "cell_type": "code",
   "execution_count": 2,
   "metadata": {},
   "outputs": [
    {
     "name": "stdout",
     "output_type": "stream",
     "text": [
      "train/in.txt 3000\n",
      "train/pk.txt 3000\n",
      "train/fr.txt 3000\n",
      "train/af.txt 3000\n",
      "train/cn.txt 3000\n",
      "train/za.txt 3000\n",
      "train/fi.txt 3000\n",
      "train/ir.txt 3000\n",
      "train/de.txt 3000\n"
     ]
    }
   ],
   "source": [
    "def findFiles(path): return glob.glob(path)\n",
    "\n",
    "# print(findFiles('data/names/*.txt'))\n",
    "# print(findFiles('train/*.txt'))\n",
    "\n",
    "import unicodedata\n",
    "import string\n",
    "\n",
    "all_letters = string.ascii_letters + \" .,;'\"\n",
    "n_letters = len(all_letters)\n",
    "\n",
    "# Turn a Unicode string to plain ASCII, thanks to http://stackoverflow.com/a/518232/2809427\n",
    "def unicodeToAscii(s):\n",
    "    return ''.join(\n",
    "        c for c in unicodedata.normalize('NFD', s)\n",
    "        if unicodedata.category(c) != 'Mn'\n",
    "        and c in all_letters\n",
    "    )\n",
    "\n",
    "# print(unicodeToAscii('Ślusàrski'))\n",
    "\n",
    "# Build the category_lines dictionary, a list of names per language\n",
    "category_lines = {}\n",
    "all_categories = [] # yezheng: this is a global variable\n",
    "# Read a file and split into lines\n",
    "def readLines(filename):\n",
    "    try: # yezheng -- tackle with \"ISO-8859-1\"\n",
    "        fd = open(filename, encoding='utf-8', errors='ignore')\n",
    "    except:\n",
    "        fd = open(filename, encoding=\"ISO-8859-1\")\n",
    "    lines = fd.read().strip().split('\\n')\n",
    "    return [unicodeToAscii(line) for line in lines]\n",
    "    fd.close()\n",
    "\n",
    "# for filename in findFiles('data/names/*.txt'):\n",
    "num_tot_train = 0\n",
    "for filename in findFiles('train/*.txt'):\n",
    "    category = filename.split('/')[-1].split('.')[0]\n",
    "    all_categories.append(category)\n",
    "    lines = readLines(filename)\n",
    "    num_tot_train += len(lines)\n",
    "    category_lines[category] = lines\n",
    "    print(filename,len(lines))\n",
    "n_categories = len(all_categories)\n",
    "\n",
    "category_lines_val = {}\n",
    "global num_tot_val\n",
    "num_tot_val = 0\n",
    "for filename in findFiles('val/*.txt'):\n",
    "    category = filename.split('/')[-1].split('.')[0]\n",
    "    lines = readLines(filename)\n",
    "    category_lines_val[category] = lines\n",
    "    num_tot_val += len(lines)\n"
   ]
  },
  {
   "cell_type": "code",
   "execution_count": 3,
   "metadata": {},
   "outputs": [
    {
     "name": "stdout",
     "output_type": "stream",
     "text": [
      "n_categories=9 n_letters57\n"
     ]
    }
   ],
   "source": [
    "print(f\"n_categories={n_categories} n_letters{n_letters}\")"
   ]
  },
  {
   "cell_type": "code",
   "execution_count": 4,
   "metadata": {},
   "outputs": [
    {
     "name": "stdout",
     "output_type": "stream",
     "text": [
      "['yungming', 'xingzhuang', 'liren', 'hongjiaotian', 'guanrenling']\n",
      "abcdefghijklmnopqrstuvwxyzABCDEFGHIJKLMNOPQRSTUVWXYZ .,;'\n",
      "['in', 'pk', 'fr', 'af', 'cn', 'za', 'fi', 'ir', 'de']\n"
     ]
    }
   ],
   "source": [
    "# print(category_lines['Italian'][:5])\n",
    "print(category_lines['cn'][:5])\n",
    "print(all_letters)\n",
    "print(all_categories)"
   ]
  },
  {
   "cell_type": "code",
   "execution_count": 5,
   "metadata": {},
   "outputs": [],
   "source": [
    "import torch\n",
    "# Find letter index from all_letters, e.g. \"a\" = 0\n",
    "def letterToIndex(letter): return all_letters.find(letter)\n",
    "\n",
    "# Just for demonstration, turn a letter into a <1 x n_letters> Tensor\n",
    "def letterToTensor(letter):\n",
    "    tensor = torch.zeros(1, n_letters)\n",
    "    tensor[0][letterToIndex(letter)] = 1\n",
    "    return tensor\n",
    "\n",
    "# Turn a line into a <line_length x 1 x n_letters>,\n",
    "# or an array of one-hot letter vectors\n",
    "def lineToTensor(line):\n",
    "    tensor = torch.zeros(len(line), 1, n_letters)\n",
    "    for li, letter in enumerate(line): \n",
    "        tensor[li][0][letterToIndex(letter)] = 1\n",
    "    return tensor"
   ]
  },
  {
   "cell_type": "code",
   "execution_count": 6,
   "metadata": {},
   "outputs": [
    {
     "name": "stdout",
     "output_type": "stream",
     "text": [
      "torch.Size([1, 1, 513])\n",
      "torch.Size([5, 1, 513])\n"
     ]
    }
   ],
   "source": [
    "#yezheng: from HW5: evaluating trigram\n",
    "from collections import *\n",
    "from random import random\n",
    "import numpy as np\n",
    "def train_char_lm(fname, order=2, add_k=1):\n",
    "  ''' Trains a language model.\n",
    "  This code was borrowed from http://nbviewer.jupyter.org/gist/yoavg/d76121dfde2618422139\n",
    "  Inputs:\n",
    "    fname: Path to a text corpus.\n",
    "    order: The length of the n-grams.\n",
    "    add_k: k value for add-k smoothing. NOT YET IMPLMENTED\n",
    "\n",
    "  Returns:\n",
    "    A dictionary mapping from n-grams of length n to a list of tuples.\n",
    "    Each tuple consists of a possible net character and its probability.\n",
    "  '''\n",
    "  # TODO: Add your implementation of add-k smoothing.\n",
    "  #   data = open(fname).read()\n",
    "#-------------\n",
    "  lm = defaultdict(Counter)\n",
    "  fnameLst = fname\n",
    "  if isinstance(fname, str): fnameLst = [fname]\n",
    "  lm = defaultdict(Counter)\n",
    "#   print(fnameLst)\n",
    "  for fnm in fnameLst:\n",
    "      try: # yezheng -- tackle with \"ISO-8859-1\"\n",
    "            fd = open(fnm, encoding='utf-8', errors='ignore')\n",
    "      except:\n",
    "            fd = open(fnm, encoding=\"ISO-8859-1\")\n",
    "      AllChars = set()\n",
    "      for data in fd.readlines():\n",
    "          data = data.lower()\n",
    "          AllChars.update(data)\n",
    "          pad = \"~\" * order # yezheng: this is just setting beginning of a line -- just like <s><s> mentioned in chapter 4\n",
    "          data = pad + data\n",
    "          for i in range(len(data)-order):\n",
    "            history, char = data[i:i+order], data[i+order]\n",
    "            lm[history][char]+=1\n",
    "          del history\n",
    "          del char\n",
    "          del i\n",
    "      for his in lm.keys():\n",
    "        for ch in AllChars: lm[his][ch]+=0 \n",
    "      fd.close()\n",
    "#-------------\n",
    "  def normalize(counter): # input is a dictionary\n",
    "    s = float(sum(counter.values())) + add_k *len(counter)\n",
    "    return [(c,(cnt+add_k)/s) for c,cnt in counter.items()]\n",
    "  outlm = {hist:normalize(chars) for hist, chars in lm.items()}\n",
    "  return outlm\n",
    "\n",
    "# def perplexity_yezheng_string(cityname, lm, order=2):\n",
    "#   '''Computes the perplexity of a text file given the language model.\n",
    "#   Inputs:\n",
    "#     test_filename: path to text file\n",
    "#     lms: The output from calling train_char_lms.\n",
    "#     order: The length of the n-grams in the language model. #yezheng: order can be read from lm?\n",
    "#   Outputs:\n",
    "#     max_labels: a list of predicted labels\n",
    "#   '''\n",
    "#   #order = len(list(lm.keys())[0]) #yezheng: I think it should not be an argument\n",
    "#   pad = \"~\" * order\n",
    "#   data = pad + cityname\n",
    "#   data = data.lower()\n",
    "#   # TODO: YOUR CODE HERE\n",
    "#   # Daphne: make sure (num of characters > order)\n",
    "#   logPP = 0\n",
    "#   for i in range(len(data)-order):\n",
    "#     history, char = data[i:(i+order)], data[i+order]   \n",
    "#     if history not in lm:\n",
    "#       logPP += np.log2(8.0/len(lm)) # float(\"-inf\") # yezheng: deal with unknowns\n",
    "#     else:\n",
    "#       dict_temp = dict(lm[history])\n",
    "#       if char not in dict_temp:\n",
    "#         logPP += np.log2(8.0/len(lm)) #float(\"-inf\")  # yezheng: deal with unknowns\n",
    "#       else: logPP += np.log2(dict_temp[char])\n",
    "#   return logPP/len(data) #yezheng: we forget to divide this by len(data) in HW5\n",
    "\n",
    "import os\n",
    "lms_dict_tri = {}# a dictionary of lms\n",
    "for filename in os.listdir('train'):\n",
    "    filepath = ['train/' + filename,'val/' + filename]\n",
    "    lms_dict_tri[filename[:2]] = train_char_lm(filepath)  #, order=order, add_k = AddK\n",
    "\n",
    "def trigramTensor(line, lms_dict, order=2): # n_label*n_letters\n",
    "    tensor = torch.zeros(len(line), 1, n_categories*n_letters)\n",
    "    data = \"~\" *order + line\n",
    "    input_feature = []\n",
    "    for li in range(len(data)-order):\n",
    "        for idx_lm,lm_name in enumerate(lms_dict.keys()):\n",
    "            history, ch = data[li:(li+order)], data[li+order]   \n",
    "            lm = lms_dict[lm_name]\n",
    "            if history not in lm:\n",
    "              for j in range(n_letters): \n",
    "#                 print(\"tensor[li][0][idx_lm*n_letters + j]\",tensor[li][0][idx_lm*n_letters + j])\n",
    "                tensor[li][0][idx_lm*n_letters + j] =np.log2(8.0/len(lm)) \n",
    "            else:\n",
    "              dict_temp = dict(lm[history])\n",
    "              if ch not in dict_temp:\n",
    "                tensor[li][0][idx_lm*n_letters + letterToIndex(ch) ]= np.log2(8.0/len(lm)) #float(\"-inf\")  # yezheng: deal with unknowns\n",
    "              else:  \n",
    "                tensor[li][0][idx_lm*n_letters + letterToIndex(ch) ] = np.log2(dict_temp[ch])\n",
    "    return tensor\n",
    "\n",
    "# def lineToTensor(line):\n",
    "#     tensor = torch.zeros(len(line), 1, n_letters)\n",
    "#     for li, letter in enumerate(line): \n",
    "#         tensor[li][0][letterToIndex(letter)] = 1\n",
    "#     return tensor\n",
    "\n",
    "n_hidden = 60\n",
    "if tri_FLAG:\n",
    "    print(trigramTensor('J',lms_dict_tri).size())\n",
    "    print(trigramTensor('Jones',lms_dict_tri).size())\n",
    "else:\n",
    "    print(letterToTensor('J'))\n",
    "    print(lineToTensor('Jones').size())"
   ]
  },
  {
   "cell_type": "code",
   "execution_count": 7,
   "metadata": {},
   "outputs": [],
   "source": [
    "# I have not used this one\n",
    "import torch.nn as nn\n",
    "import torch.optim as optim \n",
    "\n",
    "class RNN(nn.Module):\n",
    "    def __init__(self, input_size, hidden_size, output_size):\n",
    "        super(RNN, self).__init__()\n",
    "        self.input_size = input_size # yezheng\n",
    "        self.hidden_size = hidden_size\n",
    "        self.i2h = nn.Linear(input_size + hidden_size, hidden_size)\n",
    "        self.h2h = nn.Tanh()\n",
    "        self.i2o = nn.Linear(input_size + hidden_size, output_size)\n",
    "        self.o2o = nn.Dropout()#nn.Tanh()# Dropout is harmful\n",
    "        self.softmax = nn.LogSoftmax(dim=1)\n",
    "\n",
    "    def forward(self, input, hidden):\n",
    "#         if tri_FLAG: print(\"tri debug\", input.size(),hidden.size())\n",
    "        combined = torch.cat((input, hidden), 1)\n",
    "        h1 = self.i2h(combined)\n",
    "        hidden = h1#self.h2h(h1)# yezheng\n",
    "        o1 = self.i2o(combined)\n",
    "        output = o1#self.o2o(o1)#yezheng\n",
    "        if tri_FLAG:\n",
    "#             output = tchdiv(self.softmax(output),self.input_size) # yezheng: should be divided by input_size\n",
    "            output = self.softmax(output) \n",
    "        else:\n",
    "            output = self.softmax(output) \n",
    "        #yezheng: self.softmax: transforming into \"probability\"\n",
    "        return output, hidden\n",
    "\n",
    "    def initHidden(self): return Variable(torch.zeros(1, self.hidden_size))\n",
    "    \n",
    "import torch.nn.functional as F   # 神经网络模块中的常用功能 \n",
    "class LSTMTagger(nn.Module):\n",
    "    def __init__(self, embedding_dim, hidden_dim, tagset_size):\n",
    "        super(LSTMTagger, self).__init__()\n",
    "        self.hidden_dim = hidden_dim\n",
    "#         self.word_embeddings = nn.Embedding(vocab_size, embedding_dim)\n",
    "#         self.word_embeddings = nn.Linear(input_size,)\n",
    "        self.lstm = nn.LSTM(embedding_dim, hidden_dim, dropout = 1) # yezheng: dropout to avoid overfitting\n",
    "        self.hidden2tag = nn.Linear(hidden_dim, tagset_size)\n",
    "        self.hidden = self.init_hidden()\n",
    "        self.log_softmax = nn.LogSoftmax(dim=1)\n",
    "        \n",
    "    def init_hidden(self):\n",
    "        return (Variable(torch.zeros(1, 1, self.hidden_dim)),Variable(torch.zeros(1, 1, self.hidden_dim)))\n",
    " \n",
    "    def forward(self, input_embedding): #input_embedding\n",
    "        embeds = input_embedding #yezheng\n",
    "#         lstm_out, self.hidden = self.lstm(   embeds.view(len(sentence), 1, -1), self.hidden)\n",
    "        lstm_out, self.hidden = self.lstm(   embeds.view(len(input_embedding), 1, -1), self.hidden) #yezheng\n",
    "        h,c= self.hidden # parameters for the last hidden state\n",
    "#         print(\"h\",h.size())\n",
    "#         tag_space = self.hidden2tag(lstm_out.view(len(input_embedding), -1)) #yezheng\n",
    "        tag_space = self.hidden2tag(h) #yezheng \n",
    "        tag_scores = tag_space\n",
    "#         tag_scores = self.log_softmax(tag_space) #tag_space  -- softmax is important\n",
    "#         print(\"tag_scores\",tag_scores.size())\n",
    "#         output = tag_scores[-1].view(1,-1)\n",
    "        output = tag_scores.view(1,-1)\n",
    "        return output # I just return tag_scores"
   ]
  },
  {
   "cell_type": "code",
   "execution_count": 8,
   "metadata": {},
   "outputs": [],
   "source": [
    "rnn = RNN(n_letters *n_categories, n_hidden, n_categories)  # yezheng: trigramTensor\n",
    "n_layers  = 1\n",
    "# lstm = nn.LSTM(input_size = n_letters *n_categories,hidden_size = n_categories, num_layers = n_layers)\n",
    "lstm = LSTMTagger(embedding_dim = n_letters *n_categories, hidden_dim = n_hidden, tagset_size = n_categories)"
   ]
  },
  {
   "cell_type": "code",
   "execution_count": 9,
   "metadata": {},
   "outputs": [],
   "source": [
    "if tri_FLAG:\n",
    "    input = Variable(trigramTensor('A',lms_dict_tri))\n",
    "    hidden = Variable(torch.zeros(1, n_hidden))\n",
    "    output, next_hidden = rnn(input[0], hidden)\n",
    "else:\n",
    "    input = Variable(letterToTensor('A'))\n",
    "    hidden = Variable(torch.zeros(1, n_hidden))\n",
    "    output, next_hidden = rnn(input, hidden)"
   ]
  },
  {
   "cell_type": "code",
   "execution_count": 10,
   "metadata": {},
   "outputs": [
    {
     "name": "stdout",
     "output_type": "stream",
     "text": [
      "Variable containing:\n",
      "-2.9844 -1.3168 -2.4678 -1.9206 -2.7821 -2.2635 -1.7281 -2.8399 -3.0322\n",
      "[torch.FloatTensor of size 1x9]\n",
      "\n"
     ]
    }
   ],
   "source": [
    "if tri_FLAG:\n",
    "    input = Variable(trigramTensor('Albert',lms_dict_tri))\n",
    "    hidden = Variable(torch.zeros(1, n_hidden))\n",
    "    output, next_hidden = rnn(input[0], hidden) # yezheng: strange: I though output should have size related with n_labels\n",
    "    print(output)\n",
    "else:\n",
    "    input = Variable(lineToTensor('Albert'))\n",
    "    hidden = Variable(torch.zeros(1, n_hidden))\n",
    "    output, next_hidden = rnn(input[0], hidden) # yezheng: strange: I though output should have size related with n_labels\n",
    "    print(output)"
   ]
  },
  {
   "cell_type": "code",
   "execution_count": 11,
   "metadata": {},
   "outputs": [
    {
     "name": "stdout",
     "output_type": "stream",
     "text": [
      "('pk', 1)\n"
     ]
    }
   ],
   "source": [
    "def categoryFromOutput(output):\n",
    "    top_n, top_i = output.data.topk(1) # Tensor out of Variable with .data\n",
    "    category_i = top_i[0][0]\n",
    "    return all_categories[category_i], category_i\n",
    "print(categoryFromOutput(output))"
   ]
  },
  {
   "cell_type": "code",
   "execution_count": 12,
   "metadata": {},
   "outputs": [
    {
     "name": "stdout",
     "output_type": "stream",
     "text": [
      "category = in / line = daru ka nagla\n",
      "category = fi / line = tvara\n",
      "category = ir / line = patkestan\n",
      "category = in / line = khokhri\n",
      "category = fi / line = zafirovo\n",
      "category = fi / line = filgueira\n",
      "category = de / line = nizhniy studenyy\n",
      "category = in / line = pondok atas afdeling \n",
      "category = cn / line = xiaoju\n",
      "category = cn / line = datanhe\n"
     ]
    }
   ],
   "source": [
    "import random\n",
    "def randomChoice(l): return l[random.randint(0, len(l) - 1)]\n",
    "def randomTrainingExample():\n",
    "    category = randomChoice(all_categories)\n",
    "    line = randomChoice(category_lines[category])\n",
    "    category_tensor = Variable(torch.LongTensor([all_categories.index(category)]))\n",
    "    if tri_FLAG: line_tensor = Variable(trigramTensor(line,lms_dict_tri)) # yezheng \n",
    "    else: line_tensor = Variable(lineToTensor(line)) \n",
    "    return category, line, category_tensor, line_tensor\n",
    "for i in range(10):\n",
    "    category, line, category_tensor, line_tensor = randomTrainingExample()\n",
    "    print('category =', category, '/ line =', line)"
   ]
  },
  {
   "cell_type": "code",
   "execution_count": 13,
   "metadata": {},
   "outputs": [],
   "source": [
    "criterion = nn.NLLLoss() #Negative Log Likelihood"
   ]
  },
  {
   "cell_type": "code",
   "execution_count": 14,
   "metadata": {},
   "outputs": [],
   "source": [
    "def evaluate(line_tensor):\n",
    "#     hidden = lstm.initHidden()\n",
    "#     for i in range(line_tensor.size()[0]):\n",
    "    output = lstm(line_tensor)\n",
    "    return output\n",
    "\n",
    "\n",
    "\n",
    "def predict(input_line, n_predictions=1):\n",
    "#     print('\\n> %s' % input_line)   \n",
    "    output = evaluate(Variable(trigramTensor(input_line,lms_dict_tri)))\n",
    "\n",
    "    # Get top N categories\n",
    "    topv, topi = output.data.topk(n_predictions, 1, True)\n",
    "    predictions = []\n",
    "\n",
    "    for i in range(n_predictions):\n",
    "        value = topv[0][i]\n",
    "        category_index = topi[0][i]\n",
    "#         print('(%.2f) %s' % (value, all_categories[category_index]))\n",
    "        predictions.append([value, all_categories[category_index]])\n",
    "    return all_categories[category_index]\n",
    "\n",
    "import csv\n",
    "del category\n",
    "def Curr_Err_Rate_dev(): \n",
    "    global num_tot_val\n",
    "    num_err = 0\n",
    "    for catname in all_categories:\n",
    "        num_err += sum([not catname == predict(cityname) for cityname in category_lines_val[catname]])\n",
    "    return num_err*1.0/num_tot_val\n",
    "    \n",
    "    "
   ]
  },
  {
   "cell_type": "code",
   "execution_count": 15,
   "metadata": {},
   "outputs": [],
   "source": [
    "# If you set this too high, it might explode. If too low, it might not learn\n",
    "learning_rate = 0.001#0.004 #0.02 -- blow up (or overfitting)\n",
    "# 0.0001\n",
    "optimizer = optim.SGD(lstm.parameters(), lr=learning_rate)"
   ]
  },
  {
   "cell_type": "code",
   "execution_count": 16,
   "metadata": {},
   "outputs": [],
   "source": [
    "import time\n",
    "import math\n",
    "\n",
    "n_iters = 100000 # there are 3000 lines for each of 9 documents\n",
    "# n_iters_doc = 3\n",
    "print_every = 5000\n",
    "plot_every = 1000\n",
    "# Keep track of losses for plotting\n",
    "current_loss = 0\n",
    "all_losses = []\n",
    "\n",
    "def timeSince(since):\n",
    "    now = time.time()\n",
    "    s = now - since\n",
    "    m = math.floor(s / 60)\n",
    "    s -= m * 60\n",
    "    return '%dm %ds' % (m, s)\n",
    "start = time.time()\n",
    "num_err = 0\n",
    "pre_err_rate = 1\n",
    "\n",
    "\n",
    "T1 = time.time()"
   ]
  },
  {
   "cell_type": "code",
   "execution_count": 17,
   "metadata": {},
   "outputs": [
    {
     "name": "stdout",
     "output_type": "stream",
     "text": [
      "5000 5% (0m 41s) 0.8867 moussonvilliers / fi ✗ (fr)\n",
      "10000 10% (1m 19s) 0.8867 najafiyeh / af ✗ (fi)\n",
      "15000 15% (1m 55s) 0.8867 hasan dheri / za ✗ (pk)\n",
      "20000 20% (2m 29s) 0.8867 ahmad bari / za ✗ (pk)\n",
      "25000 25% (3m 4s) 0.8867 angadpur / in ✓\n",
      "30000 30% (3m 39s) 0.8867 aul kazaty / cn ✗ (za)\n",
      "35000 35% (4m 11s) 0.8867 saintmauricederumilly / fi ✗ (in)\n",
      "40000 40% (4m 49s) 0.8867 argentolle / za ✗ (fr)\n",
      "45000 45% (5m 23s) 0.8867 qingta / za ✗ (in)\n",
      "50000 50% (5m 53s) 0.8867 varnashkino / cn ✗ (in)\n",
      "55000 55% (6m 25s) 0.8867 komingcheng / de ✗ (cn)\n",
      "60000 60% (6m 55s) 0.8867 delta city / cn ✗ (de)\n",
      "65000 65% (7m 34s) 0.8867 ginina matamba / pk ✗ (in)\n",
      "70000 70% (8m 20s) 0.8867 agadir n' ait sa / za ✗ (ir)\n",
      "75000 75% (9m 0s) 0.8867 kuusikunnas / fi ✓\n",
      "80000 80% (9m 34s) 0.8867 kanapera / za ✗ (fi)\n",
      "85000 85% (10m 9s) 0.8867 irkliyev / za ✗ (ir)\n",
      "90000 90% (10m 40s) 0.8867 ershiyizong / in ✗ (cn)\n",
      "95000 95% (11m 13s) 0.8867 deangelis / fi ✗ (de)\n",
      "100000 100% (11m 47s) 0.8867 nodendorf / cn ✗ (de)\n"
     ]
    }
   ],
   "source": [
    "# print(\"num_tot_val\",num_tot_val)\n",
    "T2 = time.time()\n",
    "for iter in range(1,n_iters+1): # 我们要训练300次，可以根据任务量的大小酌情修改次数。\n",
    "    category, line, category_tensor, line_tensor = randomTrainingExample()\n",
    "    # 清除网络先前的梯度值，梯度值是Pytorch的变量才有的数据，Pytorch张量没有\n",
    "    lstm.zero_grad()\n",
    "    # 重新初始化隐藏层数据，避免受之前运行代码的干扰\n",
    "    lstm.hidden = lstm.init_hidden()\n",
    "    output_real= lstm(line_tensor)\n",
    "    \n",
    "    # 计算损失，反向传递梯度及更新模型参数\n",
    "#--------\n",
    "\n",
    "#     output_real = tag_scores[-1].view(1,-1)\n",
    "    loss = criterion(output_real,category_tensor)\n",
    "                    \n",
    "    loss.backward()\n",
    "#     curr_err_rate = Curr_Err_Rate_dev()#num_err*1.0/iter\n",
    "#     learning_rate_ad = learning_rate * np.sqrt(max(pre_err_rate - curr_err_rate,0))*5\n",
    "#     for p in lstm.parameters():   p.data.add_(-learning_rate_ad, p.grad.data)\n",
    "#     optimizer.step()\n",
    "    guess, guess_i = categoryFromOutput(output_real) #yezheng: what is 'guess_i' -- the index while 'guess' is the name\n",
    "#         print(\"guess\",guess)\n",
    "#     if guess != category: num_err +=1 # this is not important at all\n",
    "    if iter % print_every == 0:\n",
    "#         print(\"h\",h.size(),type(h)) \n",
    "#         print(\"output_real\",output_real.size(),type(output_real)) \n",
    "#         print(\"len current word:\",len(line_tensor))\n",
    "#         print(\"tag_scores\",tag_scores.size(),type(tag_scores))\n",
    "        correct = '✓' if guess == category else '✗ (%s)' % category\n",
    "        curr_err_rate = Curr_Err_Rate_dev()#num_err*1.0/iter\n",
    "        pre_err_rate = curr_err_rate\n",
    "        print('%d %d%% (%s) %.4f %s / %s %s' % (iter, iter / n_iters * 100, timeSince(start), pre_err_rate, line, guess, correct))"
   ]
  },
  {
   "cell_type": "code",
   "execution_count": 18,
   "metadata": {},
   "outputs": [
    {
     "data": {
      "text/plain": [
       "[<matplotlib.lines.Line2D at 0x11b209b00>]"
      ]
     },
     "execution_count": 18,
     "metadata": {},
     "output_type": "execute_result"
    }
   ],
   "source": [
    "import matplotlib.pyplot as plt\n",
    "import matplotlib.ticker as ticker\n",
    "\n",
    "plt.figure()\n",
    "plt.plot(all_losses)"
   ]
  },
  {
   "cell_type": "code",
   "execution_count": 19,
   "metadata": {},
   "outputs": [
    {
     "data": {
      "image/png": "[encoded data removed]",
      "text/plain": [
       "<matplotlib.figure.Figure at 0x109c0e9b0>"
      ]
     },
     "metadata": {},
     "output_type": "display_data"
    },
    {
     "data": {
      "image/png": "[encoded data removed]",
      "text/plain": [
       "<matplotlib.figure.Figure at 0x11b209ba8>"
      ]
     },
     "metadata": {},
     "output_type": "display_data"
    },
    {
     "name": "stdout",
     "output_type": "stream",
     "text": [
      "27.024463891983032\n"
     ]
    }
   ],
   "source": [
    "T3 = time.time()\n",
    "# Keep track of correct guesses in a confusion matrix\n",
    "confusion = torch.zeros(n_categories, n_categories)\n",
    "n_confusion = 10000\n",
    "\n",
    "# Just return an output given a line\n",
    "def evaluate(line_tensor):\n",
    "#     hidden = lstm.initHidden()\n",
    "#     for i in range(line_tensor.size()[0]):\n",
    "    output = lstm(line_tensor)\n",
    "    return output\n",
    "\n",
    "# Go through a bunch of examples and record which are correctly guessed\n",
    "for i in range(n_confusion):\n",
    "    category, line, category_tensor, line_tensor = randomTrainingExample()\n",
    "    output = evaluate(line_tensor)\n",
    "    guess, guess_i = categoryFromOutput(output)\n",
    "    category_i = all_categories.index(category)\n",
    "    confusion[category_i][guess_i] += 1\n",
    "\n",
    "# Normalize by dividing every row by its sum\n",
    "for i in range(n_categories):\n",
    "    confusion[i] = confusion[i] / confusion[i].sum()\n",
    "\n",
    "# Set up plot\n",
    "fig = plt.figure()\n",
    "ax = fig.add_subplot(111)\n",
    "cax = ax.matshow(confusion.numpy())\n",
    "fig.colorbar(cax)\n",
    "\n",
    "# Set up axes\n",
    "ax.set_xticklabels([''] + all_categories, rotation=90)\n",
    "ax.set_yticklabels([''] + all_categories)\n",
    "\n",
    "# Force label at every tick\n",
    "ax.xaxis.set_major_locator(ticker.MultipleLocator(1))\n",
    "ax.yaxis.set_major_locator(ticker.MultipleLocator(1))\n",
    "\n",
    "# sphinx_gallery_thumbnail_number = 2\n",
    "plt.show()\n",
    "print(time.time() - T3)"
   ]
  },
  {
   "cell_type": "code",
   "execution_count": 20,
   "metadata": {},
   "outputs": [],
   "source": [
    "\n",
    "# def predict(input_line, n_predictions=1):\n",
    "# #     print('\\n> %s' % input_line)   \n",
    "#     output = evaluate(Variable(trigramTensor(input_line,lms_dict_tri)))\n",
    "\n",
    "#     # Get top N categories\n",
    "#     topv, topi = output.data.topk(n_predictions, 1, True)\n",
    "#     predictions = []\n",
    "\n",
    "#     for i in range(n_predictions):\n",
    "#         value = topv[0][i]\n",
    "#         category_index = topi[0][i]\n",
    "# #         print('(%.2f) %s' % (value, all_categories[category_index]))\n",
    "#         predictions.append([value, all_categories[category_index]])\n",
    "#     return all_categories[category_index]\n",
    "\n",
    "\n",
    "# import csv\n",
    "\n",
    "words_test = []\n",
    "with open (\"cities_test.txt\",\"r\",encoding=\"ISO-8859-1\") as f:\n",
    "    reader = csv.reader(f)\n",
    "    for row in reader:\n",
    "        words_test.append(row[0])\n",
    "        \n",
    "pred_labels = []\n",
    "for word in words_test:\n",
    "    pred_labels.append(predict(word))\n",
    "    \n",
    "output_file = open(\"../labels.txt\",\"w\")\n",
    "for item in pred_labels:\n",
    "    output_file.write(\"%s\\n\" % item)\n",
    "    \n",
    "output_file.close()"
   ]
  },
  {
   "cell_type": "code",
   "execution_count": 21,
   "metadata": {},
   "outputs": [
    {
     "data": {
      "text/plain": [
       "1"
      ]
     },
     "execution_count": 21,
     "metadata": {},
     "output_type": "execute_result"
    }
   ],
   "source": [
    "sum([False,True, False])"
   ]
  },
  {
   "cell_type": "code",
   "execution_count": null,
   "metadata": {},
   "outputs": [],
   "source": []
  }
 ],
 "metadata": {
  "kernelspec": {
   "display_name": "Python 3",
   "language": "python",
   "name": "python3"
  },
  "language_info": {
   "codemirror_mode": {
    "name": "ipython",
    "version": 3
   },
   "file_extension": ".py",
   "mimetype": "text/x-python",
   "name": "python",
   "nbconvert_exporter": "python",
   "pygments_lexer": "ipython3",
   "version": "3.6.1"
  }
 },
 "nbformat": 4,
 "nbformat_minor": 2
}
