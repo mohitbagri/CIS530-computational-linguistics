{
 "cells": [
  {
   "cell_type": "code",
   "execution_count": 1,
   "metadata": {},
   "outputs": [],
   "source": [
    "import torch\n",
    "import torch.autograd as autograd # torch中自动计算梯度模块\n",
    "import torch.nn as nn             # 神经网络模块\n",
    "import torch.nn.functional as F   # 神经网络模块中的常用功能 \n",
    "import torch.optim as optim       # 模型优化器模块\n",
    " \n",
    "import time\n",
    "T0 = time.time()\n",
    "torch.manual_seed(1)\n",
    "\n",
    "EMBEDDING_DIM = 6\n",
    "HIDDEN_DIM =3"
   ]
  },
  {
   "cell_type": "code",
   "execution_count": 2,
   "metadata": {},
   "outputs": [],
   "source": [
    "# class LSTMTagger(nn.Module):\n",
    " \n",
    "#     def __init__(self, embedding_dim, hidden_dim, vocab_size, tagset_size):\n",
    "#         super(LSTMTagger, self).__init__()\n",
    "#         self.hidden_dim = hidden_dim\n",
    " \n",
    "#         self.word_embeddings = nn.Embedding(vocab_size, embedding_dim)\n",
    " \n",
    "#         self.lstm = nn.LSTM(embedding_dim, hidden_dim)\n",
    " \n",
    "#         self.hidden2tag = nn.Linear(hidden_dim, tagset_size)\n",
    "#         self.hidden = self.init_hidden()\n",
    " \n",
    "#     def init_hidden(self):\n",
    "#         return (autograd.Variable(torch.zeros(1, 1, self.hidden_dim)),\n",
    "#                 autograd.Variable(torch.zeros(1, 1, self.hidden_dim)))\n",
    " \n",
    "#     def forward(self, sentence):\n",
    "#         embeds = self.word_embeddings(sentence)\n",
    "#         lstm_out, self.hidden = self.lstm(\n",
    "#             embeds.view(len(sentence), 1, -1), self.hidden)\n",
    "#         tag_space = self.hidden2tag(lstm_out.view(len(sentence), -1))\n",
    "#         tag_scores = F.log_softmax(tag_space)\n",
    "#         return tag_scores"
   ]
  },
  {
   "cell_type": "code",
   "execution_count": 3,
   "metadata": {},
   "outputs": [
    {
     "name": "stdout",
     "output_type": "stream",
     "text": [
      "-------------torch.Size([1, 1, 6])\n",
      "out:torch.Size([1, 1, 3]) hidden:2\n",
      "-------------torch.Size([1, 1, 6])\n",
      "out:torch.Size([1, 1, 3]) hidden:2\n",
      "-------------torch.Size([1, 1, 6])\n",
      "out:torch.Size([1, 1, 3]) hidden:2\n"
     ]
    }
   ],
   "source": [
    "# lstm单元输入和输出维度都是3\n",
    "lstm = nn.LSTM(EMBEDDING_DIM, HIDDEN_DIM)\n",
    "# 生成一个长度为5，每一个元素为1*3的序列作为输入，这里的数字3对应于上句中第一个3\n",
    "inputs = [autograd.Variable(torch.randn((1, EMBEDDING_DIM)))for _ in range(3)]\n",
    "    # 设置隐藏层维度，初始化隐藏层的数据\n",
    "hidden = (autograd.Variable(torch.randn(1, 1, HIDDEN_DIM)),autograd.Variable(torch.randn((1, 1, HIDDEN_DIM))))\n",
    " \n",
    "for i in inputs:\n",
    "# Step through the sequence one element at a time.\n",
    "# after each step, hidden contains the hidden state.\n",
    "    print(f\"-------------{i.view(1,1,-1).size()}\")\n",
    "    out, hidden = lstm(i.view(1, 1, -1), hidden)\n",
    "    print(f\"out:{out.size()} hidden:{len(hidden)}\")"
   ]
  },
  {
   "cell_type": "code",
   "execution_count": 4,
   "metadata": {},
   "outputs": [
    {
     "name": "stdout",
     "output_type": "stream",
     "text": [
      "{'The': 0, 'dog': 1, 'ate': 2, 'the': 3, 'apple': 4, 'Everybody': 5, 'read': 6, 'that': 7, 'book': 8}\n"
     ]
    }
   ],
   "source": [
    "training_data = [\n",
    "    (\"The dog ate the apple\".split(), [\"DET\", \"NN\", \"V\", \"DET\", \"NN\"]),\n",
    "    (\"Everybody read that book\".split(), [\"NN\", \"V\", \"DET\", \"NN\"])\n",
    "]\n",
    "\n",
    "word_to_ix = {} # 单词的索引字典\n",
    "for sent, tags in training_data:\n",
    "    for word in sent:\n",
    "        if word not in word_to_ix:\n",
    "            word_to_ix[word] = len(word_to_ix)\n",
    "print(word_to_ix)\n",
    "tag_to_ix = {\"DET\": 0, \"NN\": 1, \"V\": 2} # 手工设定词性标签数据字典\n",
    "\n",
    "\n",
    "\n",
    "class LSTMTagger(nn.Module):\n",
    "    def __init__(self, embedding_dim, hidden_dim, vocab_size, tagset_size):\n",
    "        super(LSTMTagger, self).__init__()\n",
    "        self.hidden_dim = hidden_dim\n",
    "        self.word_embeddings = nn.Embedding(vocab_size, embedding_dim)\n",
    "        self.lstm = nn.LSTM(embedding_dim, hidden_dim)\n",
    "        self.hidden2tag = nn.Linear(hidden_dim, tagset_size)\n",
    "        self.hidden = self.init_hidden()\n",
    "\n",
    "    def init_hidden(self):\n",
    "        return (autograd.Variable(torch.zeros(1, 1, self.hidden_dim)),\n",
    "                autograd.Variable(torch.zeros(1, 1, self.hidden_dim)))\n",
    "\n",
    "    def forward(self, sentence):\n",
    "        embeds = self.word_embeddings(sentence)\n",
    "#         print(\"~~~~~~~\", embeds.size(),type(embeds))\n",
    "#         print(\"~~~~~~~\", sentence, len(sentence)) #sentence,\n",
    "        lstm_out, self.hidden = self.lstm(\n",
    "            embeds.view(len(sentence), 1, -1), self.hidden)\n",
    "        tag_space = self.hidden2tag(lstm_out.view(len(sentence), -1))\n",
    "        tag_scores = F.log_softmax(tag_space, dim = 1)\n",
    "        return tag_scores\n"
   ]
  },
  {
   "cell_type": "code",
   "execution_count": 5,
   "metadata": {},
   "outputs": [
    {
     "name": "stdout",
     "output_type": "stream",
     "text": [
      "0.15135717391967773\n"
     ]
    }
   ],
   "source": [
    "def prepare_sequence(seq, to_ix):\n",
    "    idxs = [to_ix[w] for w in seq]\n",
    "    tensor = torch.LongTensor(idxs)\n",
    "    return autograd.Variable(tensor)\n",
    "\n",
    "model = LSTMTagger(EMBEDDING_DIM, HIDDEN_DIM, len(word_to_ix), len(tag_to_ix))\n",
    "loss_function = nn.NLLLoss()\n",
    "optimizer = optim.SGD(model.parameters(), lr=0.1)\n",
    "print(time.time() - T0)"
   ]
  },
  {
   "cell_type": "code",
   "execution_count": 6,
   "metadata": {},
   "outputs": [
    {
     "name": "stdout",
     "output_type": "stream",
     "text": [
      "['The', 'dog', 'ate', 'the', 'apple']\n",
      "Variable containing:\n",
      " 0\n",
      " 1\n",
      " 2\n",
      " 3\n",
      " 4\n",
      "[torch.LongTensor of size 5]\n",
      "\n",
      "torch.Size([5, 3])\n",
      "0.00824594497680664\n"
     ]
    },
    {
     "name": "stderr",
     "output_type": "stream",
     "text": [
      "/Library/Frameworks/Python.framework/Versions/3.6/lib/python3.6/site-packages/ipykernel_launcher.py:36: UserWarning: Implicit dimension choice for log_softmax has been deprecated. Change the call to include dim=X as an argument.\n"
     ]
    }
   ],
   "source": [
    "T1 = time.time()\n",
    "\n",
    "model = LSTMTagger(EMBEDDING_DIM, HIDDEN_DIM, len(word_to_ix), len(tag_to_ix))\n",
    "loss_function = nn.NLLLoss()\n",
    "optimizer = optim.SGD(model.parameters(), lr=0.1)\n",
    " \n",
    "inputs = prepare_sequence(training_data[0][0], word_to_ix)\n",
    "tag_scores = model(inputs)\n",
    "print(training_data[0][0])\n",
    "print(inputs)\n",
    "print(tag_scores.size())\n",
    "print(time.time() - T1)"
   ]
  },
  {
   "cell_type": "code",
   "execution_count": 7,
   "metadata": {},
   "outputs": [
    {
     "name": "stderr",
     "output_type": "stream",
     "text": [
      "/Library/Frameworks/Python.framework/Versions/3.6/lib/python3.6/site-packages/ipykernel_launcher.py:36: UserWarning: Implicit dimension choice for log_softmax has been deprecated. Change the call to include dim=X as an argument.\n"
     ]
    },
    {
     "name": "stdout",
     "output_type": "stream",
     "text": [
      "torch.Size([5, 3])\n",
      "99 time elapsed 0.6308820247650146\n",
      "torch.Size([5, 3])\n",
      "99 time elapsed 0.6353158950805664\n",
      "torch.Size([5, 3])\n",
      "199 time elapsed 1.1080238819122314\n",
      "torch.Size([5, 3])\n",
      "199 time elapsed 1.1109139919281006\n",
      "torch.Size([5, 3])\n",
      "299 time elapsed 1.5669219493865967\n",
      "torch.Size([5, 3])\n",
      "299 time elapsed 1.5699918270111084\n"
     ]
    }
   ],
   "source": [
    "T2 = time.time()\n",
    "for epoch in range(300): # 我们要训练300次，可以根据任务量的大小酌情修改次数。\n",
    "    for sentence, tags in training_data:\n",
    "        # 清除网络先前的梯度值，梯度值是Pytorch的变量才有的数据，Pytorch张量没有\n",
    "        model.zero_grad()\n",
    "        # 重新初始化隐藏层数据，避免受之前运行代码的干扰\n",
    "        model.hidden = model.init_hidden()\n",
    "        # 准备网络可以接受的的输入数据和真实标签数据，这是一个监督式学习\n",
    "        sentence_in = prepare_sequence(sentence, word_to_ix)\n",
    "        targets = prepare_sequence(tags, tag_to_ix)\n",
    "        # 运行我们的模型，直接将模型名作为方法名看待即可\n",
    "        tag_scores = model(sentence_in)\n",
    "        # 计算损失，反向传递梯度及更新模型参数\n",
    "#         print(\"tag_scores\",tag_scores.size(),type(tag_scores))\n",
    "        loss = loss_function(tag_scores, targets)\n",
    "        loss.backward()\n",
    "        optimizer.step()\n",
    "\n",
    "        # 来检验下模型训练的结果\n",
    "        inputs = prepare_sequence(training_data[0][0], word_to_ix)\n",
    "        tag_scores = model(inputs)\n",
    "        if (0 == (epoch+1)% 100):\n",
    "            print(tag_scores.size())\n",
    "            print(epoch,\"time elapsed\",time.time() - T2)"
   ]
  }
 ],
 "metadata": {
  "kernelspec": {
   "display_name": "Python 3",
   "language": "python",
   "name": "python3"
  },
  "language_info": {
   "codemirror_mode": {
    "name": "ipython",
    "version": 3
   },
   "file_extension": ".py",
   "mimetype": "text/x-python",
   "name": "python",
   "nbconvert_exporter": "python",
   "pygments_lexer": "ipython3",
   "version": "3.6.1"
  }
 },
 "nbformat": 4,
 "nbformat_minor": 2
}
