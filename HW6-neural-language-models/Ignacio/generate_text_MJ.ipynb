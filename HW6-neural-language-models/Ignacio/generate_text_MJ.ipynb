{
 "cells": [
  {
   "cell_type": "code",
   "execution_count": 17,
   "metadata": {},
   "outputs": [
    {
     "name": "stdout",
     "output_type": "stream",
     "text": [
      "file_len = 78834\n"
     ]
    }
   ],
   "source": [
    "import unidecode\n",
    "import string\n",
    "import random\n",
    "import re\n",
    "\n",
    "all_characters = string.printable\n",
    "n_characters = len(all_characters)\n",
    "\n",
    "file = unidecode.unidecode(open('Michael_Jackson_lyrics.csv').read())\n",
    "file_len = len(file)\n",
    "print('file_len =', file_len)"
   ]
  },
  {
   "cell_type": "code",
   "execution_count": 18,
   "metadata": {},
   "outputs": [
    {
     "name": "stdout",
     "output_type": "stream",
     "text": [
      "k baby  \n",
      "A heart attack baby  \n",
      "I need your body  \n",
      "  \n",
      "A hot kiss honey  \n",
      "He's just a bitch baby  \n",
      "You make me sick baby  \n",
      "So unrelying  \n",
      "  \n",
      "I'm such a swine baby  \n",
      "All down the line daddy  \n",
      "I hate your \n"
     ]
    }
   ],
   "source": [
    "chunk_len = 200\n",
    "\n",
    "def random_chunk():\n",
    "    start_index = random.randint(0, file_len - chunk_len)\n",
    "    end_index = start_index + chunk_len + 1\n",
    "    return file[start_index:end_index]\n",
    "\n",
    "print(random_chunk())"
   ]
  },
  {
   "cell_type": "code",
   "execution_count": 19,
   "metadata": {},
   "outputs": [],
   "source": [
    "import torch\n",
    "import torch.nn as nn\n",
    "from torch.autograd import Variable\n",
    "\n",
    "class RNN(nn.Module):\n",
    "    def __init__(self, input_size, hidden_size, output_size, n_layers=1):\n",
    "        super(RNN, self).__init__()\n",
    "        self.input_size = input_size\n",
    "        self.hidden_size = hidden_size\n",
    "        self.output_size = output_size\n",
    "        self.n_layers = n_layers\n",
    "        \n",
    "        self.encoder = nn.Embedding(input_size, hidden_size)\n",
    "        self.gru = nn.GRU(hidden_size, hidden_size, n_layers)\n",
    "        self.decoder = nn.Linear(hidden_size, output_size)\n",
    "    \n",
    "    def forward(self, input, hidden):\n",
    "        input = self.encoder(input.view(1, -1))\n",
    "        output, hidden = self.gru(input.view(1, 1, -1), hidden)\n",
    "        output = self.decoder(output.view(1, -1))\n",
    "        return output, hidden\n",
    "\n",
    "    def init_hidden(self):\n",
    "        return Variable(torch.zeros(self.n_layers, 1, self.hidden_size))"
   ]
  },
  {
   "cell_type": "code",
   "execution_count": 20,
   "metadata": {},
   "outputs": [
    {
     "name": "stdout",
     "output_type": "stream",
     "text": [
      "Variable containing:\n",
      " 10\n",
      " 11\n",
      " 12\n",
      " 39\n",
      "[torch.LongTensor of size 4]\n",
      "\n"
     ]
    }
   ],
   "source": [
    "# Turn string into list of longs\n",
    "def char_tensor(string):\n",
    "    tensor = torch.zeros(len(string)).long()\n",
    "    for c in range(len(string)):\n",
    "        tensor[c] = all_characters.index(string[c])\n",
    "    return Variable(tensor)\n",
    "\n",
    "print(char_tensor('abcD'))"
   ]
  },
  {
   "cell_type": "code",
   "execution_count": 21,
   "metadata": {},
   "outputs": [],
   "source": [
    "def random_training_set():    \n",
    "    chunk = random_chunk()\n",
    "    inp = char_tensor(chunk[:-1])\n",
    "    target = char_tensor(chunk[1:])\n",
    "    return inp, target"
   ]
  },
  {
   "cell_type": "markdown",
   "metadata": {},
   "source": [
    "## Evaluating"
   ]
  },
  {
   "cell_type": "code",
   "execution_count": 22,
   "metadata": {},
   "outputs": [],
   "source": [
    "def evaluate(prime_str='A', predict_len=200, temperature=0.8):\n",
    "    hidden = decoder.init_hidden()\n",
    "    #making it a trigram model\n",
    "    prime_input = char_tensor(prime_str)\n",
    "    predicted = prime_str\n",
    "\n",
    "    # Use priming string to \"build up\" hidden state\n",
    "    for p in range(len(prime_str) - 1):\n",
    "        _, hidden = decoder(prime_input[p], hidden)\n",
    "    inp = prime_input[-1]\n",
    "    \n",
    "    for p in range(predict_len):\n",
    "        output, hidden = decoder(inp, hidden)\n",
    "        \n",
    "        # Sample from the network as a multinomial distribution\n",
    "        output_dist = output.data.view(-1).div(temperature).exp()\n",
    "        top_i = torch.multinomial(output_dist, 1)[0]\n",
    "        \n",
    "        # Add predicted character to string and use as next input\n",
    "        predicted_char = all_characters[top_i]\n",
    "        predicted += predicted_char\n",
    "        inp = char_tensor(predicted_char)\n",
    "\n",
    "    return predicted"
   ]
  },
  {
   "cell_type": "code",
   "execution_count": 23,
   "metadata": {},
   "outputs": [],
   "source": [
    "import time, math\n",
    "\n",
    "def time_since(since):\n",
    "    s = time.time() - since\n",
    "    m = math.floor(s / 60)\n",
    "    s -= m * 60\n",
    "    return '%dm %ds' % (m, s)"
   ]
  },
  {
   "cell_type": "code",
   "execution_count": 24,
   "metadata": {},
   "outputs": [],
   "source": [
    "def train(inp, target):\n",
    "    hidden = decoder.init_hidden()\n",
    "    decoder.zero_grad()\n",
    "    loss = 0\n",
    "\n",
    "    for c in range(chunk_len):\n",
    "        output, hidden = decoder(inp[c], hidden)\n",
    "        loss += criterion(output, target[c])\n",
    "\n",
    "    loss.backward()\n",
    "    decoder_optimizer.step()\n",
    "\n",
    "    return loss.data[0] / chunk_len"
   ]
  },
  {
   "cell_type": "code",
   "execution_count": 25,
   "metadata": {},
   "outputs": [
    {
     "name": "stdout",
     "output_type": "stream",
     "text": [
      "[0m 22s (100 5%) 1.8211]\n",
      "Wher,,\"m?y Je ver sat wakre thay \n",
      "Minow ker mer me so  \n",
      "Your so backabe Lome thare  \n",
      "Yo the m  \n",
      "Sacke  \n",
      "\n",
      "[0m 42s (200 10%) 1.7522]\n",
      "Whon't nighttit'm sato me oknecis  \n",
      "  \n",
      "  \n",
      "Tho mondenf on,  \n",
      "I,  \n",
      "Sancaen you son't ol for)  \n",
      "Ten in mi \n",
      "\n",
      "[1m 1s (300 15%) 1.7946]\n",
      "Whe'n Honce  \n",
      "And It leattart  \n",
      "Hogind love  \n",
      "I he's got a sourd I go to you more wone love  \n",
      "Tordan   \n",
      "\n",
      "[1m 21s (400 20%) 1.7554]\n",
      "Whe of let tere theod you  \n",
      "And severere this be the dowing  \n",
      "Be Michaon the ky me antere fabe, you ca \n",
      "\n",
      "[1m 41s (500 25%) 1.5298]\n",
      "Whisel purs that love  \n",
      "Get say make cahe more croon don't chat, me love  \n",
      "Hong)  \n",
      "Hound Black  \n",
      "  \n",
      "Fa \n",
      "\n",
      "[2m 1s (600 30%) 1.5084]\n",
      "Wherlay, I son't you  \n",
      "Whure ait you stream)  \n",
      "Hed in  \n",
      "Is goost an mine  \n",
      "(Whase dring thom a non't m \n",
      "\n",
      "[2m 22s (700 35%) 0.9413]\n",
      "What Call yeah  \n",
      "When your do me  \n",
      "Betterly you thendersee Gready line  \n",
      "((In't lift you  \n",
      "The dyedy   \n",
      "\n",
      "[2m 46s (800 40%) 1.3410]\n",
      "What more word the traugh  \n",
      "Fallin' a shack an I can't the thath make plack  \n",
      "We riple we withting all \n",
      "\n",
      "[3m 9s (900 45%) 1.0910]\n",
      "When trust can  \n",
      "Don't get you need me?  \n",
      "I'll the why where wart lies  \n",
      "Let love moreg  \n",
      "(All)  \n",
      "How  \n",
      "\n",
      "[3m 33s (1000 50%) 1.5265]\n",
      "When bet your got to kee me love my letin'  \n",
      "Don't it to fing  \n",
      "  \n",
      "Can't cold me me  \n",
      "Sees down  \n",
      "  \n",
      "Y \n",
      "\n",
      "[3m 52s (1100 55%) 2.1341]\n",
      "What's ways  \n",
      "She the ever love you know you know some oh, her ever one shecidroul, you  \n",
      "Yeah  \n",
      "You h \n",
      "\n",
      "[4m 11s (1200 60%) 1.7254]\n",
      "Whared, yeh I just pleant it  \n",
      "They fire  \n",
      "  \n",
      "Then or not care away baby  \n",
      "  \n",
      "We'll sunlife  \n",
      "  \n",
      "I'll  \n",
      "\n",
      "[4m 30s (1300 65%) 1.4626]\n",
      "Whaing mame on ever me you, make make me chon ear more comears out to girl on, I know faltin' me, do a \n",
      "\n",
      "[4m 49s (1400 70%) 1.0783]\n",
      "Whine  \n",
      "Whiles the Near on the hire stop fool see  \n",
      "Anything me cry  \n",
      "So you, baby, you can't shond  \n",
      " \n",
      "\n",
      "[5m 9s (1500 75%) 1.0933]\n",
      "Whe I know (I don't me takes in more move  \n",
      "I dnease  \n",
      "  \n",
      "[Chorus: Mecem on lears,/m/michael+jackson/i \n",
      "\n",
      "[5m 30s (1600 80%) 1.3109]\n",
      "When I can tout you go more eyes doublst bow I thank to be can and you who around  \n",
      "  \n",
      "And I could bod \n",
      "\n",
      "[5m 46s (1700 85%) 1.4034]\n",
      "What your say  \n",
      "Ease, yourseveed you Flloore  \n",
      "And ooh, on thars hou baby  \n",
      "Why I want see!  \n",
      "You know \n",
      "\n",
      "[6m 3s (1800 90%) 1.2120]\n",
      "Who down, now  \n",
      "I way I name you give you don't you are from oust was make your looke mine, me  \n",
      "By I  \n",
      "\n",
      "[6m 26s (1900 95%) 1.0358]\n",
      "Who may  \n",
      "(She's got the (Corugh the Nite Jackson,Move,/m/michael+jackson/de_2009271.html,\"So see your \n",
      "\n",
      "[6m 49s (2000 100%) 0.9607]\n",
      "Wha is baby  \n",
      "So is go  \n",
      "Ease on just fart if you're down  \n",
      "Eephin' good  \n",
      "Ewnight  \n",
      "You just and down \n",
      "\n"
     ]
    }
   ],
   "source": [
    "n_epochs = 2000\n",
    "print_every = 100\n",
    "plot_every = 10\n",
    "hidden_size = 100\n",
    "n_layers = 1\n",
    "lr = 0.005\n",
    "\n",
    "decoder = RNN(n_characters, hidden_size, n_characters, n_layers)\n",
    "decoder_optimizer = torch.optim.Adam(decoder.parameters(), lr=lr)\n",
    "criterion = nn.CrossEntropyLoss()\n",
    "\n",
    "start = time.time()\n",
    "all_losses = []\n",
    "loss_avg = 0\n",
    "\n",
    "for epoch in range(1, n_epochs + 1):\n",
    "    loss = train(*random_training_set())       \n",
    "    loss_avg += loss\n",
    "\n",
    "    if epoch % print_every == 0:\n",
    "        print('[%s (%d %d%%) %.4f]' % (time_since(start), epoch, epoch / n_epochs * 100, loss))\n",
    "        print(evaluate('Wh', 100), '\\n')\n",
    "\n",
    "    if epoch % plot_every == 0:\n",
    "        all_losses.append(loss_avg / plot_every)\n",
    "        loss_avg = 0"
   ]
  },
  {
   "cell_type": "markdown",
   "metadata": {},
   "source": [
    "## Plotting the training lessons"
   ]
  },
  {
   "cell_type": "code",
   "execution_count": 26,
   "metadata": {},
   "outputs": [
    {
     "data": {
      "text/plain": [
       "[<matplotlib.lines.Line2D at 0x7fb7316d9898>]"
      ]
     },
     "execution_count": 26,
     "metadata": {},
     "output_type": "execute_result"
    },
    {
     "data": {
      "image/png": "[encoded data removed]",
      "text/plain": [
       "<matplotlib.figure.Figure at 0x7fb731889630>"
      ]
     },
     "metadata": {},
     "output_type": "display_data"
    }
   ],
   "source": [
    "import matplotlib.pyplot as plt\n",
    "import matplotlib.ticker as ticker\n",
    "%matplotlib inline\n",
    "\n",
    "plt.figure()\n",
    "plt.plot(all_losses)"
   ]
  },
  {
   "cell_type": "markdown",
   "metadata": {},
   "source": [
    "## Evaluating at different \"temperatures\""
   ]
  },
  {
   "cell_type": "code",
   "execution_count": 27,
   "metadata": {},
   "outputs": [
    {
     "name": "stdout",
     "output_type": "stream",
     "text": [
      "Ad  \n",
      "Rock I down, out done  \n",
      "Go never soul bow you give  \n",
      "Ease one more chance  \n",
      "Don't you who wit and flile  \n",
      "Like want too down  \n",
      "  \n",
      "Baby!  \n",
      "At I wand life in ir in the down in the prach  \n",
      "One more chance at love  \n",
      "  \n",
      "Call the plack  \n",
      "Calling on the Nite Line  \n",
      "Don't onk a man  \n",
      "Cigh and down)  \n",
      "  \n"
     ]
    }
   ],
   "source": [
    "print(evaluate('A', 300, temperature=0.8))"
   ]
  },
  {
   "cell_type": "code",
   "execution_count": 28,
   "metadata": {},
   "outputs": [
    {
     "name": "stdout",
     "output_type": "stream",
     "text": [
      "Michael Jackson,Me can down  \n",
      "Good with you stop  \n",
      "Like is down  \n",
      "And I don't get you girl  \n",
      "And you do whing you happy  \n",
      "And the be is the wors  \n",
      "And I don't down  \n",
      "You game on down in my life a ters while you  \n",
      "  \n",
      "Don't get it all the Nite Line  \n",
      "And I g'on down  \n",
      "  \n",
      "And down  \n",
      "So gain in the baby, love  \n",
      "So down\n"
     ]
    }
   ],
   "source": [
    "print(evaluate('Michael Jackson,', 300, temperature=0.4))"
   ]
  },
  {
   "cell_type": "code",
   "execution_count": 29,
   "metadata": {},
   "outputs": [
    {
     "name": "stdout",
     "output_type": "stream",
     "text": [
      "Morck me wait blers not me is girl  \n",
      "Any whing a me all  \n",
      "And down  \n",
      "Come on  \n",
      "You girl  \n",
      "I want to firal  \n",
      "  \n",
      "(To the Nite Line)  \n",
      "Now you son't you bet to the wall  \n",
      "Oh thing the down  \n",
      "Ease on world to so  \n",
      "  \n",
      "I want that like a money  \n",
      "And the place  \n",
      "And to the do go do  \n",
      "Caught you good  \n",
      "  \n",
      "So\n"
     ]
    }
   ],
   "source": [
    "print(evaluate('M', 300, temperature=0.6))"
   ]
  },
  {
   "cell_type": "code",
   "execution_count": null,
   "metadata": {},
   "outputs": [],
   "source": []
  },
  {
   "cell_type": "code",
   "execution_count": 30,
   "metadata": {},
   "outputs": [],
   "source": [
    "import math\n",
    "import numpy as np\n",
    "from collections import *\n",
    "from random import random\n",
    "\n",
    "def train_char_lm(fname, order=2, add_k=1):\n",
    "    ''' Trains a language model.\n",
    "\n",
    "    This code was borrowed from http://nbviewer.jupyter.org/gist/yoavg/d76121dfde2618422139\n",
    "\n",
    "    Inputs:\n",
    "    fname: Path to a text corpus.\n",
    "    order: The length of the n-grams.\n",
    "    add_k: k value for add-k smoothing. NOT YET IMPLMENTED\n",
    "\n",
    "    Returns:\n",
    "    A dictionary mapping from n-grams of length n to a list of tuples.\n",
    "    Each tuple consists of a possible net character and its probability.\n",
    "    '''\n",
    "\n",
    "    # TODO: Add your implementation of add-k smoothing.\n",
    "    #   data = open(fname).read() \n",
    "    try: # yezheng -- tackle with \"ISO-8859-1\"\n",
    "        data = open(fname).read() \n",
    "    except:\n",
    "        data = open(fname, encoding=\"ISO-8859-1\").read()  # \"UTF-8\"\n",
    "    lm = defaultdict(Counter)\n",
    "    pad = \"~\" * order # yezheng: this is just setting beginning of a line -- just like <s><s> mentioned in chapter 4\n",
    "    data = pad + data\n",
    "    for i in range(len(data)-order):\n",
    "        history, char = data[i:i+order], data[i+order]\n",
    "        lm[history][char]+=1\n",
    "    \n",
    "    def normalize(counter): # input is a dictionary\n",
    "        s = float(sum(counter.values()) ) + add_k *len(counter)\n",
    "        return [(c,(cnt+add_k)/s) for c,cnt in counter.items()]\n",
    "    \n",
    "    outlm = {hist:normalize(chars) for hist, chars in lm.items()}\n",
    "    return outlm\n",
    "\n",
    "def perplexity(text, lm, order=2):\n",
    "\n",
    "    if len(list(lm.keys())[0]) != order:\n",
    "        print(f\"order given ({order}) is inconsistent with lm model's order ({len(list(lm.keys())[0])})\")\n",
    "        return -1.0 # normally, return value should not be negative\n",
    "    \n",
    "\n",
    "    pad = \"~\" * order\n",
    "    test = pad + text\n",
    "    # TODO: YOUR CODE HERE\n",
    "    # Daphne: make sure (num of characters > order)\n",
    "    \n",
    "    logPP = 0\n",
    "\n",
    "    for i in range(len(test)-order):\n",
    "        history, char = test[i:(i+order)], test[i+order]\n",
    "\n",
    "        if history not in lm: \n",
    "            #print('A')\n",
    "            logPP -= np.log2(1.0/len(lm)) # float(\"-inf\") # yezheng: deal with unknowns\n",
    "            \n",
    "        else:\n",
    "            dict_temp = dict(lm[history])\n",
    "            \n",
    "            if char not in dict_temp:\n",
    "                #print('B',char)\n",
    "                #print(dict_temp)\n",
    "                logPP -= np.log2(1.0/len(lm)) #float(\"-inf\")  # yezheng: deal with unknowns\n",
    "                \n",
    "            else:\n",
    "                logPP -= np.log2(dict_temp[char])\n",
    "                \n",
    "\n",
    "    logPP = logPP/len(text)\n",
    "    PP = np.power(2,logPP)\n",
    "\n",
    "    return PP # yezheng: should I return it? notice the SPECIFICATION above does not have \"Outputs\"\n",
    "\n",
    "def perplexity2(text, lm, order=2):\n",
    "    hidden = decoder.init_hidden()\n",
    "\n",
    "    if len(list(lm.keys())[0]) != order:\n",
    "        print(f\"order given ({order}) is inconsistent with lm model's order ({len(list(lm.keys())[0])})\")\n",
    "        return -1.0 # normally, return value should not be negative\n",
    "    \n",
    "\n",
    "    pad = \"~\" * order\n",
    "    test = pad + text\n",
    "    # TODO: YOUR CODE HERE\n",
    "    # Daphne: make sure (num of characters > order)\n",
    "    \n",
    "    logPP = 0\n",
    "    \n",
    "    m = nn.Softmax()\n",
    "\n",
    "    for i in range(len(test)-order):\n",
    "        history, char = test[i:(i+order)], test[i+order]\n",
    "\n",
    "        if history not in lm: \n",
    "            #print('A')\n",
    "            logPP -= np.log2(1.0/len(lm)) # float(\"-inf\") # yezheng: deal with unknowns\n",
    "            \n",
    "        else:\n",
    "            dict_temp = dict(lm[history])\n",
    "            \n",
    "            if char not in dict_temp:\n",
    "                #print('B',char)\n",
    "                #print(dict_temp)\n",
    "                logPP -= np.log2(1.0/len(lm)) #float(\"-inf\")  # yezheng: deal with unknowns\n",
    "                \n",
    "            else:\n",
    "                prime_input = char_tensor(char)\n",
    "                \n",
    "                output, hidden = decoder(prime_input, hidden)\n",
    "                \n",
    "                distribution = m(output)\n",
    "                #output_dist = output.data.view(-1).div(temperature).exp()\n",
    "                \n",
    "                #print('all_characters',all_characters)\n",
    "                #print('position',all_characters.find(char))\n",
    "                position = all_characters.find(char)\n",
    "                probability = distribution.data[0][position]\n",
    "                #print('probability', probability)\n",
    "                \n",
    "                logPP -= np.log2(probability)\n",
    "                \n",
    "\n",
    "    logPP = logPP/len(lm)\n",
    "    PP = np.power(2,logPP)\n",
    "\n",
    "    return PP # yezheng: should I return it? notice the SPECIFICATION above does not have \"Outputs\""
   ]
  },
  {
   "cell_type": "code",
   "execution_count": 35,
   "metadata": {},
   "outputs": [
    {
     "name": "stdout",
     "output_type": "stream",
     "text": [
      "perplexity Oh oh oh oh 1.0636218250089897\n",
      "perplexity Billie Jean 1.0688443934994143\n",
      "perplexity beat it 1.043708398442604\n",
      "perplexity  I  1.0145643253055008\n",
      "perplexity my girl 1.0381465963413763\n",
      "perplexity I wanna saw fight 1.1148724820027458\n",
      "perplexity Ad baby, baby 1.0827279023747887\n",
      "perplexity where men are free 1.1446096521925033\n",
      "perplexity shake that thing girl 1.1446096521925033\n"
     ]
    },
    {
     "name": "stderr",
     "output_type": "stream",
     "text": [
      "/home1/a/arranz/miniconda3/lib/python3.6/site-packages/ipykernel_launcher.py:116: UserWarning: Implicit dimension choice for softmax has been deprecated. Change the call to include dim=X as an argument.\n"
     ]
    }
   ],
   "source": [
    "model_filename = 'Michael_Jackson_lyrics.csv'\n",
    "lm = train_char_lm(model_filename)\n",
    "\n",
    "\n",
    "t1 = \"Oh oh oh oh\"\n",
    "t2 = \"Billie Jean\"\n",
    "t3 = \"beat it\"\n",
    "t4 = \" I \"\n",
    "t5 = \"my girl\"\n",
    "t6 = \"I wanna saw fight\"\n",
    "t7 = \"Ad baby, baby\"\n",
    "t8 = \"where men are free\"\n",
    "t9 = \"shake that thing girl\"\n",
    "\n",
    "\n",
    "perp1 = perplexity2(t1, lm, order=2)\n",
    "perp2 = perplexity2(t2, lm, order=2)\n",
    "perp3 = perplexity2(t3, lm, order=2)\n",
    "perp4 = perplexity2(t4, lm, order=2)\n",
    "perp5 = perplexity2(t5, lm, order=2)\n",
    "perp6 = perplexity2(t6, lm, order=2)\n",
    "perp7 = perplexity2(t7, lm, order=2)\n",
    "perp8 = perplexity2(t8, lm, order=2)\n",
    "perp9 = perplexity2(t9, lm, order=2)\n",
    "\n",
    "print('perplexity', t1, perp1)\n",
    "print('perplexity', t2, perp2)\n",
    "print('perplexity', t3, perp3)\n",
    "print('perplexity', t4, perp4)\n",
    "print('perplexity', t5, perp5)\n",
    "print('perplexity', t6, perp6)\n",
    "print('perplexity', t7, perp7)\n",
    "print('perplexity', t8, perp9)\n",
    "print('perplexity', t9, perp9)\n"
   ]
  },
  {
   "cell_type": "code",
   "execution_count": 32,
   "metadata": {},
   "outputs": [
    {
     "name": "stdout",
     "output_type": "stream",
     "text": [
      "perplexity Oh oh oh oh 1.06362182551538\n",
      "perplexity Billie Jean 1.0688443931934166\n"
     ]
    },
    {
     "name": "stderr",
     "output_type": "stream",
     "text": [
      "/home1/a/arranz/miniconda3/lib/python3.6/site-packages/ipykernel_launcher.py:116: UserWarning: Implicit dimension choice for softmax has been deprecated. Change the call to include dim=X as an argument.\n"
     ]
    }
   ],
   "source": [
    "model_filename = 'Michael_Jackson_lyrics.csv'\n",
    "lm = train_char_lm(model_filename)\n",
    "\n",
    "t1 = \"Oh oh oh oh\"\n",
    "t2 = \"Billie Jean\"\n",
    "\n",
    "\n",
    "perp1 = perplexity2(t1, lm, order=2)\n",
    "perp2 = perplexity2(t2, lm, order=2)\n",
    "\n",
    "\n",
    "print('perplexity', t1, perp1)\n",
    "print('perplexity', t2, perp2)"
   ]
  },
  {
   "cell_type": "code",
   "execution_count": null,
   "metadata": {},
   "outputs": [],
   "source": []
  }
 ],
 "metadata": {
  "kernelspec": {
   "display_name": "Python 3",
   "language": "python",
   "name": "python3"
  },
  "language_info": {
   "codemirror_mode": {
    "name": "ipython",
    "version": 3
   },
   "file_extension": ".py",
   "mimetype": "text/x-python",
   "name": "python",
   "nbconvert_exporter": "python",
   "pygments_lexer": "ipython3",
   "version": "3.6.3"
  }
 },
 "nbformat": 4,
 "nbformat_minor": 2
}
